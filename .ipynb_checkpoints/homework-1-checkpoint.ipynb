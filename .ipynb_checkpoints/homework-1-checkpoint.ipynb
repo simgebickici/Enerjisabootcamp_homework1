{
 "cells": [
  {
   "cell_type": "markdown",
   "metadata": {},
   "source": [
    "## Q1"
   ]
  },
  {
   "cell_type": "code",
   "execution_count": null,
   "metadata": {},
   "outputs": [],
   "source": [
    "import numpy as np\n",
    "import pandas as pd"
   ]
  },
  {
   "cell_type": "code",
   "execution_count": null,
   "metadata": {},
   "outputs": [],
   "source": [
    "nationality=pd.DataFrame([\"British\",\"American\",\"Spanish\",\"Italian\",\"French\",\"Turkish\"]) #nominal\n",
    "timeofday=pd.DataFrame([\"morning\",\"afternoon\",\"night\",\"evening\",\"morning\",\"evening\"]) #ordinal\n",
    "bdate=pd.DataFrame([2009,2016,2005,2013,2002,2011]) #interval\n",
    "weight=pd.DataFrame([50,68,45,47,56,69]) #ratio\n",
    "dfs=[nationality,timeofday,bdate,weight]\n",
    "ABCD=pd.concat(dfs,axis=1)\n",
    "ABCD.columns=[\"nationality\",\"timeofday\",\"bdate\",\"weight\"]\n",
    "ABCD.head()"
   ]
  },
  {
   "cell_type": "markdown",
   "metadata": {},
   "source": [
    "## Q2"
   ]
  },
  {
   "cell_type": "code",
   "execution_count": null,
   "metadata": {},
   "outputs": [],
   "source": [
    "data=pd.read_csv(\"data.csv\")\n",
    "data.head()"
   ]
  },
  {
   "cell_type": "code",
   "execution_count": null,
   "metadata": {},
   "outputs": [],
   "source": [
    "data.describe().T"
   ]
  },
  {
   "cell_type": "code",
   "execution_count": null,
   "metadata": {},
   "outputs": [],
   "source": [
    "data.describe()[[\"radius_mean\", \"area_mean\", \"compactness_mean\"]].T"
   ]
  },
  {
   "cell_type": "markdown",
   "metadata": {},
   "source": [
    "Bu tabloda, öncelikle yarıçap ortalamasında 569 veri üzerinde çalışıldığı ve ortalama değerinin 14.127292 olduğu görülmektedir. Standart sapması ise 3.524049'dur. Bu durum ortalamadan olan sapmaları ifade etmektedir. Bu değerin küçük olması nedeniyle değerlerin ortalama etrafında olduğu söylenebilir. Değerler 6.98100 ile 28.1100 arasında değişmektedir. Değişim aralığının küçük olması nedeniyle değerlerin birbirine yakın olduğu söylenebilir. Aynı zamanda medyanının 13.37000 olması ve ortalama ile yakın olması aykırılıkların azlığını ifade etmektedir. \n",
    "\n",
    "Alan ortalamasında da 569 veri üzerinde çalışılmıştır ve ortalama değerinin 654.889104 olduğu görülmektedir. Standart sapmasının 351.914129 olması değerlere göre yorumlandığında büyük bir değer olmadığı söylenebilir. Değerler 143.50000 ile 2501.0000 arasında değişmektedir dolayısıyla değişim aralığına bakıldığında değerlerin birbirinden uzak olduğu yorumu yapılabilir. Medyanın 551.10000 olması ve ortalama ile yakın değerler olması yarıçap ortalamasında olduğu gibi aykırılıkların azlığını ifade ermektedir.\n",
    "\n",
    "Yoğunluk ortalamasında ise diğerlerinde olduğu gibi 569 veri üzerinde çalışılmıştır. Burada öncelikle değerlerin çok küçük olduğunu ve ortalamasının 0.104341 olduğu görülmektedir. Standart sapmasının 0.052813 olduğu görülmektedir. Küçük bir değer olduğundan verilerin ortalama etrafınnda değiştiği söylenebilir. Aynı zamanda medyanın 0.09263 olması ve ortalama ile çok yakın olması aykırılıkların azlığını ifade etmektedir. Değerler 0.01938 ile 0.3454 arasında değişmektedir. Değişim aralığına bakıldığında değerlerin birbirinden uzak olduğu yorumu yapılabilir."
   ]
  },
  {
   "cell_type": "code",
   "execution_count": null,
   "metadata": {},
   "outputs": [],
   "source": [
    "Q1=data.quantile(0.25)\n",
    "Q3=data.quantile(0.75)"
   ]
  },
  {
   "cell_type": "code",
   "execution_count": null,
   "metadata": {},
   "outputs": [],
   "source": [
    "IQR=Q3-Q1"
   ]
  },
  {
   "cell_type": "code",
   "execution_count": null,
   "metadata": {},
   "outputs": [],
   "source": [
    "lower_outlier=Q1-1.5*IQR\n",
    "higher_outlier=Q3+1.5*IQR"
   ]
  },
  {
   "cell_type": "code",
   "execution_count": null,
   "metadata": {},
   "outputs": [],
   "source": [
    "lower_outlier[[\"radius_mean\", \"area_mean\", \"compactness_mean\"]]"
   ]
  },
  {
   "cell_type": "code",
   "execution_count": null,
   "metadata": {},
   "outputs": [],
   "source": [
    "higher_outlier[[\"radius_mean\", \"area_mean\", \"compactness_mean\"]]"
   ]
  },
  {
   "cell_type": "code",
   "execution_count": null,
   "metadata": {},
   "outputs": [],
   "source": [
    "o1=(data[\"radius_mean\"]<lower_outlier[\"radius_mean\"]) | (data[\"radius_mean\"]>higher_outlier[\"radius_mean\"])\n",
    "data[o1][\"radius_mean\"]"
   ]
  },
  {
   "cell_type": "markdown",
   "metadata": {},
   "source": [
    "Yarıçap ortalaması hakkında 5.5800'den küçük ve 21.90000'dan büyük veriler için aykırı değerler tanımı yapılmıştır. Yukarıda görüldüğü üzere 14 tane aykırı değer bulunmaktadır."
   ]
  },
  {
   "cell_type": "code",
   "execution_count": null,
   "metadata": {},
   "outputs": [],
   "source": [
    "o2=(data[\"area_mean\"]<lower_outlier[\"area_mean\"]) | (data[\"area_mean\"]>higher_outlier[\"area_mean\"])\n",
    "data[o2][\"area_mean\"]"
   ]
  },
  {
   "cell_type": "markdown",
   "metadata": {},
   "source": [
    "Alan ortalaması hakkında -123.3000'ten küçük ve 1326.30000'ten büyük veriler için aykırı değerler tanımı yapılmıştır. Yukarıda görüldüğü üzere 25 tane aykırı değer bulunmaktadır."
   ]
  },
  {
   "cell_type": "code",
   "execution_count": null,
   "metadata": {},
   "outputs": [],
   "source": [
    "o3=(data[\"compactness_mean\"]<lower_outlier[\"compactness_mean\"]) | (data[\"compactness_mean\"]>higher_outlier[\"compactness_mean\"])\n",
    "data[o3][\"compactness_mean\"]"
   ]
  },
  {
   "cell_type": "markdown",
   "metadata": {},
   "source": [
    "Yoğunluk ortalaması hakkında -0.0333'ten küçük ve 0.22862'den büyük veriler için aykırı değerler tanımı yapılmıştır. Yukarıda görüldüğü üzere 16 tane aykırı değer bulunmaktadır."
   ]
  },
  {
   "cell_type": "markdown",
   "metadata": {},
   "source": [
    "## Q3"
   ]
  },
  {
   "cell_type": "code",
   "execution_count": null,
   "metadata": {},
   "outputs": [],
   "source": [
    "data[[\"radius_mean\", \"area_mean\", \"compactness_mean\"]].corr().T"
   ]
  },
  {
   "cell_type": "markdown",
   "metadata": {},
   "source": [
    "Korelasyon analizi, değişkenler arasındaki ilişkiyi, bu ilişkinin yönü ve şiddetiyle ilgili bilgiler sağlayan istatistiksel bir yöntemdir. Burada yarıçap, alan ve yoğunluk ortalamalarının korelasyon değerleri bulunmuştur. \n",
    "\n",
    "Bu değerler şu şekilde yorumlanabilir: \n",
    "\n",
    "Alan ortalaması ve yarıçap ortalaması arasındaki ilişkiyi 0.987357 değeri ifade etmektedir. Bu değer mükemmel pozitif korelasyona çok yakın bir değerdir. Yoğunluk ortalaması ve yarıçap arasındaki ilişkiyi 0.506124 değeri gösterir. Bu değer düşük pozitif korelasyonu ifade eder. Yoğunluk ve alan ortalaması arasındaki ilişkiyi ifade eden 0.498502 değeri ise yine aynı şekilde düşük pozitif korelasyona yakın bir değerdir."
   ]
  },
  {
   "cell_type": "code",
   "execution_count": null,
   "metadata": {},
   "outputs": [],
   "source": [
    "data[[\"radius_mean\", \"area_mean\", \"compactness_mean\"]].cov().T"
   ]
  },
  {
   "cell_type": "markdown",
   "metadata": {},
   "source": [
    "Kovaryans, iki değişken arasındaki ilişkinin değişkenlik ölçüsüdür. Bu tabloyla birlikte hepsinin birbiri arasında pozitif bir ilişki olduğu görülmektedir."
   ]
  },
  {
   "cell_type": "code",
   "execution_count": null,
   "metadata": {},
   "outputs": [],
   "source": [
    "from scipy.stats import pearsonr\n",
    "x = pearsonr(data[\"radius_mean\"],data[\"area_mean\"])\n",
    "y = pearsonr(data[\"radius_mean\"],data[\"compactness_mean\"])\n",
    "z = pearsonr(data[\"area_mean\"],data[\"compactness_mean\"])\n",
    "\n",
    "print(f\"{x}\\n\")\n",
    "print(f\"{y}\\n\")\n",
    "print(f\"{z}\\n\")"
   ]
  },
  {
   "cell_type": "markdown",
   "metadata": {},
   "source": [
    "Bu yöntemde korelasyonun anlamlılığı test edilir. Örneğin yarıçap ortalaması ile alan ortalaması arasındaki ilişki için p-value değeri 0'dır. Dolayısıyla hipotez reddedilir. Değişkenler arasında anlamlı bir korelasyonun olup olmadığı sonucuna varılmış olunur."
   ]
  },
  {
   "cell_type": "code",
   "execution_count": null,
   "metadata": {},
   "outputs": [],
   "source": [
    "from scipy.stats import spearmanr\n",
    "x = spearmanr(data[\"radius_mean\"],data[\"area_mean\"])\n",
    "y = spearmanr(data[\"radius_mean\"],data[\"compactness_mean\"])\n",
    "z = spearmanr(data[\"area_mean\"],data[\"compactness_mean\"])\n",
    "\n",
    "print(f\"{x}\\n\")\n",
    "print(f\"{y}\\n\")\n",
    "print(f\"{z}\\n\")"
   ]
  },
  {
   "cell_type": "markdown",
   "metadata": {},
   "source": [
    "Bir hipotez testinde varsayımlar sağlanmadığında ise Spearman yöntemi kullanılır. Örneğin burada yarıçap ortalaması ile yoğunluk ortalaması arasındaki anlamlılık test edilmek istenildiğinde p-value değerine bakılır. Burada p-value değeri çok küçük bir değerdir. Dolayısıyla hipotez reddedilir. "
   ]
  },
  {
   "cell_type": "code",
   "execution_count": null,
   "metadata": {},
   "outputs": [],
   "source": [
    "from numpy import mean, std \n",
    "from math import sqrt\n",
    "import sys\n",
    "\n",
    "def cohen_d(x,y):\n",
    "        return (mean(x) - mean(y)) / sqrt((std(x, ddof=1) ** 2 + std(y, ddof=1) ** 2) / 2.0)\n",
    "\n",
    "c0 = data[\"radius_mean\"]\n",
    "c1 = data[\"area_mean\"]\n",
    "c2 = data[\"compactness_mean\"]\n",
    "print(cohen_d(c1,c0))\n",
    "print(cohen_d(c0,c2))\n",
    "print(cohen_d(c1,c2))\n"
   ]
  },
  {
   "cell_type": "markdown",
   "metadata": {},
   "source": [
    "Etki büyüklüğünün hesaplanmasında en yaygın kullanılanı Cohen yöntemidir. Bu yöntem tarafından geliştirilen hesaplama d'dir. Cohen genel bir öneri olmak üzere, d değerinin 0,2’den küçük olması durumunda, etki büyüklüğünün zayıf, 0.5 olması durumunda orta ve 0,8’den büyük olması durumunda ise kuvvetli olarak tanımlanabileceğini söylemektedir. Burada ise yarıçap, alan ve yoğunluk ortalamaları karşılaştırılmıştır. Hepsinin sonucu 0,8'den büyük olduğundan etki büyüklükleri kuvvetli olarak yorumlanabilir."
   ]
  },
  {
   "cell_type": "markdown",
   "metadata": {},
   "source": [
    "## Q4"
   ]
  },
  {
   "cell_type": "markdown",
   "metadata": {},
   "source": [
    "### Bayes Teoremi Örnekleri\n",
    "\n",
    "1- PCR testi olan insanlarının %60'ının gerçekten hasta olduğunu ve belirli bir markanın isabet oranlarının test edilmek istenildiğini varsayalım. Test yaptıran kişi gerçekten hastaysa %95 ihtimalle testin pozitif sonuç verdiği ve test yaptıran kişi hasta değilse %85 oranında negatif sonuç verdiğini düşünelim. Bu durumda test olan bir kişinin sonucu pozitif çıkmışsa gerçekten hasta olma olasılığını bulmak için Bayes Teoremi kullanılabilir.\n",
    "\n",
    "2- Bir şirket üyelerinin 1. işletmeden %50, 2. işletmeden %30 ve 3. işletmeden %15 olacak şekilde 3 farklı şirketten araba kiraladıklarını varsayalım. 1. işletmeden gelen arabaların %8'i, 2. işletmeden gelen arabaların %10'u ve 3. işletmeden gelen arabaların ise %20'si bakım gerektiriyorsa bu durumda kiralanan arabanın örneğin 1. işletmeden gelme olasılığı Bayes Teoremi ile bulunabilir.\n",
    "\n",
    "3- Bir evde alarm sistemi olduğunu varsayalım. Bu alarm sisteminin tehlike olduğu zaman alarm verme olasılığı %99, tehlike olmadığında ise %0.2'dir. Eğer bu alarm çalışırsa ve alarmın tehlike nedeniyle çalmış olma olasılığını hesaplamak istersek Bayes Teoremi kullanılabilir.\n",
    "\n",
    "4- Bir fabrikada üç farklı makinede üretim yapıldığını ve üretilen ürünlerin %35'inin 1. makineden, %45'inin 2. makineden ve %20'sinin ise 3. makineden üretildiğini varsayalım. 1. makinedeki üretimlerin %4'ü, 2. makinedeki üretimlerin %5'i, 3. makinedeki üretimlerin ise %7'sinin hatalı olduğu biliniyor. Bu durumda rastgele alınan bir ürünün hatalı olduğu bilindiğine göre bu ürünün 1. makineden üretilmiş olma olasılığını Bayes Teoremi ile bulabiliriz.\n",
    "\n",
    "5- Bir sınıftaki öğrencilerin %60'ı sayısal, %30'u eşit ağırlık, %10'unun ise sözel seçtiğini varsayalım. Öğrencilerin ingilizceye olan ilgisini ölçmek için yapılan bir ankette sayısal seçen öğrencilerin %35'i, eşit ağırlık seçen öğrencilerin %20'si, sözel seçen öğrencilerin ise %5'i ingilizceyi sevmektedir. Bu durumda ingilizce seven herhangi bir kişinin sayısal bölümde olma olasılığı bulunmak istendiğinde Bayes Teoremi kullanılabilir."
   ]
  },
  {
   "cell_type": "markdown",
   "metadata": {},
   "source": [
    "## Q5"
   ]
  },
  {
   "cell_type": "markdown",
   "metadata": {},
   "source": [
    "### Normal Dağılım\n",
    "\n",
    "1- Simetriktir.\n",
    "\n",
    "2- Asimptotiktir.\n",
    "\n",
    "3- (-∞, +∞) aralığında değerler alır.\n",
    "\n",
    "4- Eğri altındaki toplam alanın olasılığı 1'dir. \n",
    "\n",
    "5- Ortalama mod medyan değerleri eşittir.\n",
    "\n",
    "\n",
    "\n",
    "### Poisson Dağılımı\n",
    "\n",
    "1- Poisson dağılımı gösteren rassal bir değişken için beklenen değer ve varyans değeri de λ'dır.\n",
    "\n",
    "2- Tam sayılı olmayan bir λ lambda parametreli Poisson dağılımı gösteren bir rassal değişkenin mod değeri, λ 'dan küçük olan en büyük pozitif tam sayıya, yani |λ|'ya eşittir.\n",
    "\n",
    "3- Poisson dağılımı için tüm kümülantlar beklenen değer olan λ'ya eşittirler.\n",
    "\n",
    "4- Poisson dağılımları sonsuz olarak bölünebilir olasılık dağılımlarıdır.\n",
    "\n",
    "\n",
    "\n",
    "### Gamma Dağılımı\n",
    "\n",
    "1- Gamma dağılımı sonsuz bölünebilirlik özelliği gösterir.\n",
    "\n",
    "2- Gamma dağılımı iki-parametreli üstel ailesinin bir üyesidir.\n",
    "\n",
    "3- Üstel ve ki-kare dağılımlarının tanımlanmasına yarar.\n",
    "\n",
    "4- Dağılımın parametreleri α ve λ'dır.\n",
    "\n",
    "5- λ, Poisson dağılımında olduğu gibi birim aralıkta meydana gelen ortalama olay sayısını ifade etmektedir.\n",
    "\n",
    "\n",
    "\n",
    "### Weibull Dağılımı\n",
    "\n",
    "1- Güvenilirlik analizinde kullanılan önemli bir olasılık dağılımıdır.\n",
    "\n",
    "2- Fonksiyonun parametreleri α ve ß'dır.\n",
    "\n",
    "3- α=1 olursa Weibull dağılımı üstel dağılıma dönüşür.\n",
    "\n",
    "4- α büyüdükçe dağılım normal dağılıma yaklaşır.\n",
    "\n",
    "\n",
    "\n",
    "### Logaritmik Dağılım\n",
    "\n",
    "1- Bir değişimin logaritmasının normal dağılım göstermesi durumudur.\n",
    "\n",
    "2- Dağılımın parametleri λ ve ζ'dir.\n",
    "\n",
    "3- Değişkeni daima pozitif değer alır.\n",
    "\n",
    "\n"
   ]
  },
  {
   "cell_type": "code",
   "execution_count": null,
   "metadata": {},
   "outputs": [],
   "source": []
  }
 ],
 "metadata": {
  "kernelspec": {
   "display_name": "Python 3",
   "language": "python",
   "name": "python3"
  },
  "language_info": {
   "codemirror_mode": {
    "name": "ipython",
    "version": 3
   },
   "file_extension": ".py",
   "mimetype": "text/x-python",
   "name": "python",
   "nbconvert_exporter": "python",
   "pygments_lexer": "ipython3",
   "version": "3.7.4"
  }
 },
 "nbformat": 4,
 "nbformat_minor": 2
}
